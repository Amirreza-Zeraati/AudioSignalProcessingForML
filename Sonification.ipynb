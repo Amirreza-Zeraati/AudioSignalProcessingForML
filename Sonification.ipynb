{
 "cells": [
  {
   "cell_type": "code",
   "execution_count": null,
   "id": "initial_id",
   "metadata": {
    "collapsed": true
   },
   "outputs": [],
   "source": [
    "import seaborn\n",
    "import librosa, librosa.display\n",
    "import numpy, scipy, matplotlib.pyplot as plt, IPython.display as ipd"
   ]
  },
  {
   "cell_type": "code",
   "execution_count": null,
   "outputs": [],
   "source": [
    "signal, sr = librosa.load('data/simpleLoop.wav')"
   ],
   "metadata": {
    "collapsed": false
   },
   "id": "de47cacbf2f79b4f"
  },
  {
   "cell_type": "code",
   "execution_count": null,
   "outputs": [],
   "source": [
    "ipd.Audio(signal, rate=sr)"
   ],
   "metadata": {
    "collapsed": false
   },
   "id": "63e70596807e96b8"
  },
  {
   "cell_type": "code",
   "execution_count": null,
   "outputs": [],
   "source": [
    "librosa.display.waveshow(signal, sr=sr)"
   ],
   "metadata": {
    "collapsed": false
   },
   "id": "92af7964792e536b"
  },
  {
   "cell_type": "code",
   "execution_count": null,
   "outputs": [],
   "source": [
    "stft = librosa.stft(signal)\n",
    "mag = librosa.amplitude_to_db(stft)"
   ],
   "metadata": {
    "collapsed": false
   },
   "id": "1f3e6032e6a1b19"
  },
  {
   "cell_type": "code",
   "execution_count": null,
   "outputs": [],
   "source": [
    "librosa.display.specshow(mag, sr=sr, x_axis='time', y_axis='log')"
   ],
   "metadata": {
    "collapsed": false
   },
   "id": "ba3f1de8857324b6"
  }
 ],
 "metadata": {
  "kernelspec": {
   "display_name": "Python 3",
   "language": "python",
   "name": "python3"
  },
  "language_info": {
   "codemirror_mode": {
    "name": "ipython",
    "version": 2
   },
   "file_extension": ".py",
   "mimetype": "text/x-python",
   "name": "python",
   "nbconvert_exporter": "python",
   "pygments_lexer": "ipython2",
   "version": "2.7.6"
  }
 },
 "nbformat": 4,
 "nbformat_minor": 5
}
